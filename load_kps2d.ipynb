{
 "cells": [
  {
   "cell_type": "code",
   "execution_count": 2,
   "metadata": {},
   "outputs": [],
   "source": [
    "import numpy as np\n",
    "import matplotlib.pyplot as plt\n",
    "import glob \n",
    "import torch\n",
    "import torch.nn as nn\n",
    "import torch.optim as optim \n",
    "import time "
   ]
  },
  {
   "cell_type": "code",
   "execution_count": 3,
   "metadata": {},
   "outputs": [
    {
     "data": {
      "text/plain": [
       "device(type='cuda')"
      ]
     },
     "execution_count": 3,
     "metadata": {},
     "output_type": "execute_result"
    }
   ],
   "source": [
    "device = torch.device('cuda') if torch.cuda.is_available() else torch.device('cpu')\n",
    "device "
   ]
  },
  {
   "cell_type": "code",
   "execution_count": 4,
   "metadata": {},
   "outputs": [],
   "source": [
    "dir_eating=\"/home/olagh48652/smart-home/src/smart-home/external/activity_zed/segmented/eating/\"\n",
    "dir_noneating=\"/home/olagh48652/smart-home/src/smart-home/external/activity_zed/segmented/noneating/\""
   ]
  },
  {
   "cell_type": "code",
   "execution_count": 5,
   "metadata": {},
   "outputs": [
    {
     "data": {
      "text/plain": [
       "(16, 29)"
      ]
     },
     "execution_count": 5,
     "metadata": {},
     "output_type": "execute_result"
    }
   ],
   "source": [
    "fn_eating=glob.glob(dir_eating+\"*\")\n",
    "fn_noneating=glob.glob(dir_noneating+\"*\")\n",
    "len(fn_eating), len(fn_noneating)"
   ]
  },
  {
   "cell_type": "code",
   "execution_count": 6,
   "metadata": {},
   "outputs": [
    {
     "data": {
      "text/plain": [
       "((16, 300, 50), (29, 300, 50))"
      ]
     },
     "execution_count": 6,
     "metadata": {},
     "output_type": "execute_result"
    }
   ],
   "source": [
    "eating_data=[]\n",
    "noneating_data=[]\n",
    "for fn in fn_eating:\n",
    "    data=np.loadtxt(fn, delimiter=',')\n",
    "    eating_data.append(data)\n",
    "\n",
    "for fn in fn_noneating:\n",
    "    data=np.loadtxt(fn, delimiter=',')\n",
    "    noneating_data.append(data)\n",
    "\n",
    "eating_data=np.array(eating_data)\n",
    "noneating_data=np.array(noneating_data)\n",
    "\n",
    "eating_data.shape, noneating_data.shape"
   ]
  },
  {
   "cell_type": "code",
   "execution_count": null,
   "metadata": {},
   "outputs": [],
   "source": []
  },
  {
   "cell_type": "code",
   "execution_count": 7,
   "metadata": {},
   "outputs": [
    {
     "data": {
      "text/plain": [
       "(45, 300, 50)"
      ]
     },
     "execution_count": 7,
     "metadata": {},
     "output_type": "execute_result"
    }
   ],
   "source": [
    "X=np.concatenate((eating_data, noneating_data))\n",
    "X.shape"
   ]
  },
  {
   "cell_type": "code",
   "execution_count": 8,
   "metadata": {},
   "outputs": [
    {
     "data": {
      "text/plain": [
       "(45,)"
      ]
     },
     "execution_count": 8,
     "metadata": {},
     "output_type": "execute_result"
    }
   ],
   "source": [
    "y=np.array([1]*eating_data.shape[0]+[0]*noneating_data.shape[0])\n",
    "y.shape"
   ]
  },
  {
   "cell_type": "code",
   "execution_count": 9,
   "metadata": {},
   "outputs": [
    {
     "data": {
      "text/plain": [
       "(torch.Size([45, 300, 50]), torch.Size([45, 1]))"
      ]
     },
     "execution_count": 9,
     "metadata": {},
     "output_type": "execute_result"
    }
   ],
   "source": [
    "X=torch.from_numpy(X).float()\n",
    "y=torch.from_numpy(y).reshape(-1,1)\n",
    "X.shape, y.shape"
   ]
  },
  {
   "cell_type": "code",
   "execution_count": 10,
   "metadata": {},
   "outputs": [
    {
     "data": {
      "text/plain": [
       "(torch.Size([36, 300, 50]),\n",
       " torch.Size([36, 1]),\n",
       " torch.Size([9, 300, 50]),\n",
       " torch.Size([9, 1]))"
      ]
     },
     "execution_count": 10,
     "metadata": {},
     "output_type": "execute_result"
    }
   ],
   "source": [
    "ids=np.arange(X.shape[0])\n",
    "np.random.shuffle(ids)\n",
    "train_ids=ids[:int(len(ids)*0.8)]\n",
    "test_ids=ids[int(len(ids)*0.8):]\n",
    "X_train, y_train=X[train_ids], y[train_ids]\n",
    "X_test, y_test=X[test_ids], y[test_ids]\n",
    "\n",
    "X_train.shape, y_train.shape, X_test.shape, y_test.shape"
   ]
  },
  {
   "cell_type": "code",
   "execution_count": 11,
   "metadata": {},
   "outputs": [],
   "source": [
    "class LSTM(nn.Module):\n",
    "    \n",
    "    def __init__(self,input_dim,hidden_dim,output_dim,layer_num, seq_len):\n",
    "        super(LSTM,self).__init__()\n",
    "        self.hidden_dim = hidden_dim\n",
    "        self.output_dim = output_dim\n",
    "        self.lstm = torch.nn.LSTM(input_dim,hidden_dim,layer_num,batch_first=True)\n",
    "        self.fc = torch.nn.Linear(hidden_dim,output_dim)\n",
    "        self.bn = nn.BatchNorm1d(seq_len)\n",
    "        \n",
    "    def forward(self,inputs):\n",
    "        x = self.bn(inputs)\n",
    "        lstm_out,(hn,cn) = self.lstm(x)\n",
    "        out = self.fc(lstm_out[:,-1,:])\n",
    "        return out"
   ]
  },
  {
   "cell_type": "code",
   "execution_count": 12,
   "metadata": {},
   "outputs": [],
   "source": [
    "import random\n",
    "n_data_size_train = X_train.shape[0]\n",
    "n_data_size_test = X_test.shape[0]\n",
    "\n",
    "def randomTrainingExampleBatch(batch_size,flag,num=-1):\n",
    "    if flag == 'train':\n",
    "        X = X_train\n",
    "        y = y_train\n",
    "        data_size = n_data_size_train\n",
    "    elif flag == 'test':\n",
    "        X = X_test\n",
    "        y = y_test\n",
    "        data_size = n_data_size_test\n",
    "    if num == -1:\n",
    "        ran_num = random.randint(0,data_size-batch_size)\n",
    "    else:\n",
    "        ran_num = num\n",
    "    pose_sequence_tensor = X[ran_num:(ran_num+batch_size)]\n",
    "    pose_sequence_tensor = pose_sequence_tensor\n",
    "    category_tensor = y[ran_num:ran_num+batch_size,:]\n",
    "    return category_tensor.long(),pose_sequence_tensor"
   ]
  },
  {
   "cell_type": "code",
   "execution_count": 13,
   "metadata": {},
   "outputs": [
    {
     "data": {
      "text/plain": [
       "LSTM(\n",
       "  (lstm): LSTM(50, 128, num_layers=3, batch_first=True)\n",
       "  (fc): Linear(in_features=128, out_features=2, bias=True)\n",
       "  (bn): BatchNorm1d(300, eps=1e-05, momentum=0.1, affine=True, track_running_stats=True)\n",
       ")"
      ]
     },
     "execution_count": 13,
     "metadata": {},
     "output_type": "execute_result"
    }
   ],
   "source": [
    "n_hidden = 128\n",
    "n_joints = 25*2\n",
    "n_categories = 2\n",
    "n_layer = 3\n",
    "seq_len = 300\n",
    "rnn = LSTM(n_joints,n_hidden,n_categories,n_layer, seq_len)\n",
    "rnn.to(device)"
   ]
  },
  {
   "cell_type": "code",
   "execution_count": 14,
   "metadata": {},
   "outputs": [],
   "source": [
    "criterion = nn.CrossEntropyLoss()\n",
    "learning_rate = 0.0005\n",
    "optimizer = optim.SGD(rnn.parameters(),lr=learning_rate,momentum=0.9)"
   ]
  },
  {
   "cell_type": "code",
   "execution_count": 15,
   "metadata": {},
   "outputs": [
    {
     "name": "stdout",
     "output_type": "stream",
     "text": [
      "iter: 1000, loss: 0.681\n",
      "iter: 2000, loss: 0.374\n",
      "iter: 3000, loss: 0.018\n",
      "iter: 4000, loss: 0.005\n",
      "iter: 5000, loss: 0.005\n",
      "iter: 6000, loss: 0.003\n",
      "iter: 7000, loss: 0.002\n",
      "iter: 8000, loss: 0.003\n",
      "iter: 9000, loss: 0.001\n",
      "iter: 10000, loss: 0.002\n"
     ]
    }
   ],
   "source": [
    "n_iters = 10_000\n",
    "print_every = 1000\n",
    "plot_every = 1000\n",
    "batch_size = 4\n",
    "\n",
    "current_loss = 0\n",
    "all_losses = []\n",
    "\n",
    " \n",
    "start = time.time()\n",
    "\n",
    "for iter in range(1, n_iters + 1):\n",
    "   \n",
    "    category_tensor, input_sequence = randomTrainingExampleBatch(batch_size,'train')\n",
    "    input_sequence = input_sequence.to(device)\n",
    "    category_tensor = category_tensor.to(device)\n",
    "    category_tensor = torch.squeeze(category_tensor)\n",
    "    \n",
    "    optimizer.zero_grad()\n",
    "    \n",
    "    output = rnn(input_sequence)\n",
    "    loss = criterion(output, category_tensor)\n",
    "    loss.backward()\n",
    "    optimizer.step() \n",
    " \n",
    "    current_loss += loss.item()\n",
    "\n",
    "    if iter % print_every == 0:\n",
    "        print('iter: %d, loss: %.3f' % (iter, loss.item()))\n",
    "    \n",
    "    \n",
    "    # Add current loss avg to list of losses\n",
    "    if iter % plot_every == 0:\n",
    "        all_losses.append(current_loss / plot_every)\n",
    "        current_loss = 0"
   ]
  },
  {
   "cell_type": "code",
   "execution_count": 16,
   "metadata": {},
   "outputs": [
    {
     "data": {
      "text/plain": [
       "[<matplotlib.lines.Line2D at 0x77c62449dc00>]"
      ]
     },
     "execution_count": 16,
     "metadata": {},
     "output_type": "execute_result"
    },
    {
     "data": {
      "image/png": "[encoded data removed]",
      "text/plain": [
       "<Figure size 640x480 with 1 Axes>"
      ]
     },
     "metadata": {},
     "output_type": "display_data"
    }
   ],
   "source": [
    "plt.plot(all_losses)"
   ]
  },
  {
   "cell_type": "code",
   "execution_count": 17,
   "metadata": {},
   "outputs": [
    {
     "name": "stdout",
     "output_type": "stream",
     "text": [
      "Accuracy of 9 test data: 77.778%\n"
     ]
    }
   ],
   "source": [
    "#test \n",
    "\n",
    "rnn.eval()\n",
    "\n",
    "n_correct = 0\n",
    "n_total = 0\n",
    "for i in range(n_data_size_test):\n",
    "    category_tensor, input_sequence = randomTrainingExampleBatch(1,'test',i)\n",
    "    input_sequence = input_sequence.to(device)\n",
    "    category_tensor = category_tensor.to(device)\n",
    "    category_tensor = torch.squeeze(category_tensor)\n",
    "    output = rnn(input_sequence)\n",
    "    po=output.argmax(axis=1)\n",
    "    guess=po.item()\n",
    "    category = category_tensor\n",
    "    if category == guess:\n",
    "        n_correct += 1\n",
    "    n_total += 1\n",
    "\n",
    "print('Accuracy of %d test data: %.3f%%' % (n_data_size_test, n_correct / n_total * 100))"
   ]
  },
  {
   "cell_type": "code",
   "execution_count": 18,
   "metadata": {},
   "outputs": [
    {
     "name": "stdout",
     "output_type": "stream",
     "text": [
      "Accuracy of 9 test data: 100.000%\n"
     ]
    }
   ],
   "source": [
    "#test \n",
    "n_correct = 0\n",
    "n_total = 0\n",
    "for i in range(n_data_size_test):\n",
    "    category_tensor, input_sequence = randomTrainingExampleBatch(1,'train',i)\n",
    "    input_sequence = input_sequence.to(device)\n",
    "    category_tensor = category_tensor.to(device)\n",
    "    category_tensor = torch.squeeze(category_tensor)\n",
    "    output = rnn(input_sequence)\n",
    "    po=output.argmax(axis=1)\n",
    "    guess=po.item()\n",
    "    category = category_tensor\n",
    "    if category == guess:\n",
    "        n_correct += 1\n",
    "    n_total += 1\n",
    "\n",
    "print('Accuracy of %d test data: %.3f%%' % (n_data_size_test, n_correct / n_total * 100))"
   ]
  },
  {
   "cell_type": "code",
   "execution_count": null,
   "metadata": {},
   "outputs": [],
   "source": []
  },
  {
   "cell_type": "code",
   "execution_count": 18,
   "metadata": {},
   "outputs": [],
   "source": [
    "#save model\n",
    "torch.save(rnn.state_dict(), \"lstm_zed_april17_new.pth\")"
   ]
  },
  {
   "cell_type": "code",
   "execution_count": null,
   "metadata": {},
   "outputs": [],
   "source": []
  },
  {
   "cell_type": "code",
   "execution_count": null,
   "metadata": {},
   "outputs": [],
   "source": []
  },
  {
   "cell_type": "code",
   "execution_count": null,
   "metadata": {},
   "outputs": [],
   "source": []
  },
  {
   "cell_type": "code",
   "execution_count": null,
   "metadata": {},
   "outputs": [],
   "source": []
  },
  {
   "cell_type": "code",
   "execution_count": null,
   "metadata": {},
   "outputs": [],
   "source": []
  }
 ],
 "metadata": {
  "kernelspec": {
   "display_name": "base",
   "language": "python",
   "name": "python3"
  },
  "language_info": {
   "codemirror_mode": {
    "name": "ipython",
    "version": 3
   },
   "file_extension": ".py",
   "mimetype": "text/x-python",
   "name": "python",
   "nbconvert_exporter": "python",
   "pygments_lexer": "ipython3",
   "version": "3.10.12"
  }
 },
 "nbformat": 4,
 "nbformat_minor": 2
}
